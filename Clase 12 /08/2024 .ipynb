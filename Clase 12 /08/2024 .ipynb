{
  "nbformat": 4,
  "nbformat_minor": 0,
  "metadata": {
    "colab": {
      "provenance": [],
      "authorship_tag": "ABX9TyNXiXqyO0aE91C7VB1/IpEu",
      "include_colab_link": true
    },
    "kernelspec": {
      "name": "python3",
      "display_name": "Python 3"
    },
    "language_info": {
      "name": "python"
    }
  },
  "cells": [
    {
      "cell_type": "markdown",
      "metadata": {
        "id": "view-in-github",
        "colab_type": "text"
      },
      "source": [
        "<a href=\"https://colab.research.google.com/github/JuanDomM/Juanchosky08/blob/main/Clase%2012%20/08/2024%20.ipynb\" target=\"_parent\"><img src=\"https://colab.research.google.com/assets/colab-badge.svg\" alt=\"Open In Colab\"/></a>"
      ]
    },
    {
      "cell_type": "code",
      "source": [
        "import numpy as np\n",
        "\n",
        "print(\"Este programa calcula el promedio de diez edades y también cuantas estan por debajo del promedio\")\n",
        "edades = []\n",
        "for i in range(0, 10):\n",
        "    edad = int(input(f\"Introduce la edad {i}: \"))\n",
        "    edades.append(edad)\n",
        "arr = np.array(edades)\n",
        "\n",
        "edadprom = np.mean(arr)\n",
        "print(f\"El promedio de las edades es: {edadprom}\")\n",
        "\n",
        "contador_por_debajo = np.sum(arr < edadprom)\n",
        "print(f\"Cantidad de edades por debajo del promedio: {contador_por_debajo}\")\n"
      ],
      "metadata": {
        "colab": {
          "base_uri": "https://localhost:8080/"
        },
        "id": "FE1664KIkDza",
        "outputId": "31e7eb8d-286f-49eb-e356-a29bd2ee78f9"
      },
      "execution_count": 9,
      "outputs": [
        {
          "output_type": "stream",
          "name": "stdout",
          "text": [
            "Este programa calcula el promedio de diez edades y también cuántas están por debajo del promedio\n",
            "Introduce la edad 0: 1\n",
            "Introduce la edad 1: 12\n",
            "Introduce la edad 2: 25\n",
            "Introduce la edad 3: 36\n",
            "Introduce la edad 4: 12\n",
            "Introduce la edad 5: 18\n",
            "Introduce la edad 6: 20\n",
            "Introduce la edad 7: 15\n",
            "Introduce la edad 8: 16\n",
            "Introduce la edad 9: 10\n",
            "El promedio de las edades es: 16.5\n",
            "Cantidad de edades por debajo del promedio: 6\n"
          ]
        }
      ]
    },
    {
      "cell_type": "code",
      "source": [
        "print(\"Este programa simula una calculadora con sus 4 operaciones basicas, suma, resta, multiplicacion y division \")\n",
        "opcion = int(input(\"Por favor elija que operacion desea usar: 1 = suma , 2 = resta , 3= multiplicacion, 4= division.\"))\n",
        "\n",
        "if opcion == 1 :\n",
        "\n",
        "  a = int (input (\"Por favor ingrese el primer numero que va a sumar: \"))\n",
        "  b = int (input (\"Por favor ingrese el segundo numero que va a sumar: \"))\n",
        "  resultado_suma = a + b\n",
        "  print (f\"el resultado es : {resultado_suma}\")\n",
        "\n",
        "elif opcion == 2:\n",
        "\n",
        "    a = int (input (\"Por favor ingrese el minuendo : \"))\n",
        "    b = int (input (\"Por favor ingrese el sustraendo: \"))\n",
        "    intresultado_resta = a - b\n",
        "    print (f\"el resultado es : {resultado_resta}\")\n",
        "\n",
        "elif opcion == 3:\n",
        "\n",
        "    a = int (input (\"Por favor ingrese el primer numero a multiplicar : \"))\n",
        "    b = int (input (\"Por favor ingrese el segundo numero a multiplicar: \"))\n",
        "    resultado_mul= a * b\n",
        "    print (f\"el resultado es : {resultado_mul}\")\n",
        "\n",
        "elif opcion == 4:\n",
        "\n",
        "    a = int (input (\"Por favor ingrese el dividendo : \"))\n",
        "    b = int (input (\"Por favor ingrese el divisor : \"))\n",
        "    if b == 0:\n",
        "      print (\"No es posible dividir entre cero. \")\n",
        "    else:\n",
        "        resultado_div= a / b\n",
        "        print (f\"el resultado es : {resultado_div}\")\n",
        "else:\n",
        "  print(\"Opción invalida \")\n",
        "\n",
        "\n"
      ],
      "metadata": {
        "colab": {
          "base_uri": "https://localhost:8080/"
        },
        "id": "SfnRgslOlXOa",
        "outputId": "b4afdb76-698d-42ca-fd8e-4ae7979b9305"
      },
      "execution_count": 25,
      "outputs": [
        {
          "output_type": "stream",
          "name": "stdout",
          "text": [
            "Este programa simula una calculadora con sus 4 operaciones basicas, suma, resta, multiplicacion y division \n",
            "Por favor elija que operacion desea usar: 1 = suma , 2 = resta , 3= multiplicacion, 4= division.4\n",
            "Por favor ingrese el dividendo : 2\n",
            "Por favor ingrese el divisor : 2\n",
            "el resultado es : 1.0\n"
          ]
        }
      ]
    }
  ]
}